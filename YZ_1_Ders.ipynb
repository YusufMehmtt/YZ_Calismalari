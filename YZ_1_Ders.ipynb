{
  "nbformat": 4,
  "nbformat_minor": 0,
  "metadata": {
    "colab": {
      "provenance": []
    },
    "kernelspec": {
      "name": "python3",
      "display_name": "Python 3"
    },
    "language_info": {
      "name": "python"
    }
  },
  "cells": [
    {
      "cell_type": "markdown",
      "source": [
        "03.10.2024 - İGÜ MYO BİLGİSAYAR TEKNOLOJİSİ YAPAY ZEKA DERSİ İLK KODLAMA ÇIKTISI"
      ],
      "metadata": {
        "id": "krUHdRslYK8A"
      }
    },
    {
      "cell_type": "code",
      "execution_count": 5,
      "metadata": {
        "colab": {
          "base_uri": "https://localhost:8080/"
        },
        "id": "uKMpnC_pXaLm",
        "outputId": "5b005e35-8ad1-4906-d7e6-4ced65788b63"
      },
      "outputs": [
        {
          "output_type": "stream",
          "name": "stdout",
          "text": [
            "Merhaba\n"
          ]
        }
      ],
      "source": [
        "print(\"Merhaba\") # YAPAY ZEKA DERSİ"
      ]
    },
    {
      "cell_type": "code",
      "source": [
        "import sys # Python kütüphane ekleme komutu (import)\n",
        "print(sys.version)"
      ],
      "metadata": {
        "colab": {
          "base_uri": "https://localhost:8080/"
        },
        "id": "DLC0KwdDjhYi",
        "outputId": "dcff7920-0313-492f-f80d-22aa2cf3963b"
      },
      "execution_count": 6,
      "outputs": [
        {
          "output_type": "stream",
          "name": "stdout",
          "text": [
            "3.10.12 (main, Sep 11 2024, 15:47:36) [GCC 11.4.0]\n"
          ]
        }
      ]
    },
    {
      "cell_type": "code",
      "source": [
        "from google.colab import drive # google colab - drive bağlantısı\n",
        "\n",
        "drive.mount('/content/drive')"
      ],
      "metadata": {
        "colab": {
          "base_uri": "https://localhost:8080/"
        },
        "id": "Pktvn62Vk7RH",
        "outputId": "965e5b28-fece-4eb5-94df-e6d34f71dfb2"
      },
      "execution_count": 7,
      "outputs": [
        {
          "output_type": "stream",
          "name": "stdout",
          "text": [
            "Mounted at /content/drive\n"
          ]
        }
      ]
    },
    {
      "cell_type": "code",
      "source": [
        "import os\n",
        "\n",
        "os.chdir('/content/drive/My Drive/YapayZekaDersi')\n",
        "\n",
        "#!pwd # Bize kodun çıktısını dosya yolu olarak veren kod bloğudur"
      ],
      "metadata": {
        "id": "Su67Qsq1leHv"
      },
      "execution_count": 10,
      "outputs": []
    }
  ]
}